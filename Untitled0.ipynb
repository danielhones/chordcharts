{
 "metadata": {
  "name": "",
  "signature": "sha256:30b60580863bb03d2cbc3b19cc7f36d14afb87ed3d50266a27681333dbd1ab1d"
 },
 "nbformat": 3,
 "nbformat_minor": 0,
 "worksheets": []
}